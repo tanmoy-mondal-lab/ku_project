{
 "cells": [
  {
   "cell_type": "code",
   "execution_count": 2,
   "metadata": {
    "id": "Pqbs9Xh-moSD"
   },
   "outputs": [],
   "source": [
    "import tensorflow as tf\n",
    "from tensorflow.keras import layers, models\n",
    "from sklearn.model_selection import train_test_split\n",
    "import pandas as pd\n",
    "import matplotlib.pyplot as plt\n",
    "import os\n",
    "import warnings\n",
    "import numpy as np\n",
    "from PIL import Image\n",
    "warnings.filterwarnings('ignore')\n",
    "%matplotlib inline"
   ]
  },
  {
   "cell_type": "code",
   "execution_count": 3,
   "metadata": {
    "colab": {
     "base_uri": "https://localhost:8080/",
     "height": 419
    },
    "id": "1qNWbeKhl9kA",
    "outputId": "875136cc-ebe0-4000-faee-7efa5c105fba"
   },
   "outputs": [
    {
     "data": {
      "text/html": [
       "<div>\n",
       "<style scoped>\n",
       "    .dataframe tbody tr th:only-of-type {\n",
       "        vertical-align: middle;\n",
       "    }\n",
       "\n",
       "    .dataframe tbody tr th {\n",
       "        vertical-align: top;\n",
       "    }\n",
       "\n",
       "    .dataframe thead th {\n",
       "        text-align: right;\n",
       "    }\n",
       "</style>\n",
       "<table border=\"1\" class=\"dataframe\">\n",
       "  <thead>\n",
       "    <tr style=\"text-align: right;\">\n",
       "      <th></th>\n",
       "      <th>frame_id</th>\n",
       "      <th>sequence_id</th>\n",
       "      <th>tif_image_path</th>\n",
       "      <th>tif_mask_path</th>\n",
       "      <th>png_image_path</th>\n",
       "      <th>png_mask_path</th>\n",
       "    </tr>\n",
       "  </thead>\n",
       "  <tbody>\n",
       "    <tr>\n",
       "      <th>0</th>\n",
       "      <td>1</td>\n",
       "      <td>1</td>\n",
       "      <td>TIFF/Original/1.tif</td>\n",
       "      <td>TIFF/Ground Truth/1.tif</td>\n",
       "      <td>PNG/Original/1.png</td>\n",
       "      <td>PNG/Ground Truth/1.png</td>\n",
       "    </tr>\n",
       "    <tr>\n",
       "      <th>1</th>\n",
       "      <td>10</td>\n",
       "      <td>1</td>\n",
       "      <td>TIFF/Original/10.tif</td>\n",
       "      <td>TIFF/Ground Truth/10.tif</td>\n",
       "      <td>PNG/Original/10.png</td>\n",
       "      <td>PNG/Ground Truth/10.png</td>\n",
       "    </tr>\n",
       "    <tr>\n",
       "      <th>2</th>\n",
       "      <td>100</td>\n",
       "      <td>5</td>\n",
       "      <td>TIFF/Original/100.tif</td>\n",
       "      <td>TIFF/Ground Truth/100.tif</td>\n",
       "      <td>PNG/Original/100.png</td>\n",
       "      <td>PNG/Ground Truth/100.png</td>\n",
       "    </tr>\n",
       "    <tr>\n",
       "      <th>3</th>\n",
       "      <td>101</td>\n",
       "      <td>5</td>\n",
       "      <td>TIFF/Original/101.tif</td>\n",
       "      <td>TIFF/Ground Truth/101.tif</td>\n",
       "      <td>PNG/Original/101.png</td>\n",
       "      <td>PNG/Ground Truth/101.png</td>\n",
       "    </tr>\n",
       "    <tr>\n",
       "      <th>4</th>\n",
       "      <td>102</td>\n",
       "      <td>5</td>\n",
       "      <td>TIFF/Original/102.tif</td>\n",
       "      <td>TIFF/Ground Truth/102.tif</td>\n",
       "      <td>PNG/Original/102.png</td>\n",
       "      <td>PNG/Ground Truth/102.png</td>\n",
       "    </tr>\n",
       "    <tr>\n",
       "      <th>...</th>\n",
       "      <td>...</td>\n",
       "      <td>...</td>\n",
       "      <td>...</td>\n",
       "      <td>...</td>\n",
       "      <td>...</td>\n",
       "      <td>...</td>\n",
       "    </tr>\n",
       "    <tr>\n",
       "      <th>607</th>\n",
       "      <td>95</td>\n",
       "      <td>5</td>\n",
       "      <td>TIFF/Original/95.tif</td>\n",
       "      <td>TIFF/Ground Truth/95.tif</td>\n",
       "      <td>PNG/Original/95.png</td>\n",
       "      <td>PNG/Ground Truth/95.png</td>\n",
       "    </tr>\n",
       "    <tr>\n",
       "      <th>608</th>\n",
       "      <td>96</td>\n",
       "      <td>5</td>\n",
       "      <td>TIFF/Original/96.tif</td>\n",
       "      <td>TIFF/Ground Truth/96.tif</td>\n",
       "      <td>PNG/Original/96.png</td>\n",
       "      <td>PNG/Ground Truth/96.png</td>\n",
       "    </tr>\n",
       "    <tr>\n",
       "      <th>609</th>\n",
       "      <td>97</td>\n",
       "      <td>5</td>\n",
       "      <td>TIFF/Original/97.tif</td>\n",
       "      <td>TIFF/Ground Truth/97.tif</td>\n",
       "      <td>PNG/Original/97.png</td>\n",
       "      <td>PNG/Ground Truth/97.png</td>\n",
       "    </tr>\n",
       "    <tr>\n",
       "      <th>610</th>\n",
       "      <td>98</td>\n",
       "      <td>5</td>\n",
       "      <td>TIFF/Original/98.tif</td>\n",
       "      <td>TIFF/Ground Truth/98.tif</td>\n",
       "      <td>PNG/Original/98.png</td>\n",
       "      <td>PNG/Ground Truth/98.png</td>\n",
       "    </tr>\n",
       "    <tr>\n",
       "      <th>611</th>\n",
       "      <td>99</td>\n",
       "      <td>5</td>\n",
       "      <td>TIFF/Original/99.tif</td>\n",
       "      <td>TIFF/Ground Truth/99.tif</td>\n",
       "      <td>PNG/Original/99.png</td>\n",
       "      <td>PNG/Ground Truth/99.png</td>\n",
       "    </tr>\n",
       "  </tbody>\n",
       "</table>\n",
       "<p>612 rows × 6 columns</p>\n",
       "</div>"
      ],
      "text/plain": [
       "     frame_id  sequence_id         tif_image_path              tif_mask_path  \\\n",
       "0           1            1    TIFF/Original/1.tif    TIFF/Ground Truth/1.tif   \n",
       "1          10            1   TIFF/Original/10.tif   TIFF/Ground Truth/10.tif   \n",
       "2         100            5  TIFF/Original/100.tif  TIFF/Ground Truth/100.tif   \n",
       "3         101            5  TIFF/Original/101.tif  TIFF/Ground Truth/101.tif   \n",
       "4         102            5  TIFF/Original/102.tif  TIFF/Ground Truth/102.tif   \n",
       "..        ...          ...                    ...                        ...   \n",
       "607        95            5   TIFF/Original/95.tif   TIFF/Ground Truth/95.tif   \n",
       "608        96            5   TIFF/Original/96.tif   TIFF/Ground Truth/96.tif   \n",
       "609        97            5   TIFF/Original/97.tif   TIFF/Ground Truth/97.tif   \n",
       "610        98            5   TIFF/Original/98.tif   TIFF/Ground Truth/98.tif   \n",
       "611        99            5   TIFF/Original/99.tif   TIFF/Ground Truth/99.tif   \n",
       "\n",
       "           png_image_path             png_mask_path  \n",
       "0      PNG/Original/1.png    PNG/Ground Truth/1.png  \n",
       "1     PNG/Original/10.png   PNG/Ground Truth/10.png  \n",
       "2    PNG/Original/100.png  PNG/Ground Truth/100.png  \n",
       "3    PNG/Original/101.png  PNG/Ground Truth/101.png  \n",
       "4    PNG/Original/102.png  PNG/Ground Truth/102.png  \n",
       "..                    ...                       ...  \n",
       "607   PNG/Original/95.png   PNG/Ground Truth/95.png  \n",
       "608   PNG/Original/96.png   PNG/Ground Truth/96.png  \n",
       "609   PNG/Original/97.png   PNG/Ground Truth/97.png  \n",
       "610   PNG/Original/98.png   PNG/Ground Truth/98.png  \n",
       "611   PNG/Original/99.png   PNG/Ground Truth/99.png  \n",
       "\n",
       "[612 rows x 6 columns]"
      ]
     },
     "execution_count": 3,
     "metadata": {},
     "output_type": "execute_result"
    }
   ],
   "source": [
    "data_dr = 'Polyp_dataset'\n",
    "meta_data = pd.read_csv(os.path.join(data_dr,'metadata.csv'))\n",
    "meta_data"
   ]
  },
  {
   "cell_type": "code",
   "execution_count": 4,
   "metadata": {
    "colab": {
     "base_uri": "https://localhost:8080/",
     "height": 125
    },
    "id": "B2btNuYam24I",
    "outputId": "cf16e55a-8706-4d31-9cf6-6a9b9daaced3"
   },
   "outputs": [
    {
     "data": {
      "text/html": [
       "<div>\n",
       "<style scoped>\n",
       "    .dataframe tbody tr th:only-of-type {\n",
       "        vertical-align: middle;\n",
       "    }\n",
       "\n",
       "    .dataframe tbody tr th {\n",
       "        vertical-align: top;\n",
       "    }\n",
       "\n",
       "    .dataframe thead th {\n",
       "        text-align: right;\n",
       "    }\n",
       "</style>\n",
       "<table border=\"1\" class=\"dataframe\">\n",
       "  <thead>\n",
       "    <tr style=\"text-align: right;\">\n",
       "      <th></th>\n",
       "      <th>class_names</th>\n",
       "      <th>r</th>\n",
       "      <th>g</th>\n",
       "      <th>b</th>\n",
       "    </tr>\n",
       "  </thead>\n",
       "  <tbody>\n",
       "    <tr>\n",
       "      <th>0</th>\n",
       "      <td>background</td>\n",
       "      <td>0</td>\n",
       "      <td>0</td>\n",
       "      <td>0</td>\n",
       "    </tr>\n",
       "    <tr>\n",
       "      <th>1</th>\n",
       "      <td>polyp</td>\n",
       "      <td>255</td>\n",
       "      <td>255</td>\n",
       "      <td>255</td>\n",
       "    </tr>\n",
       "  </tbody>\n",
       "</table>\n",
       "</div>"
      ],
      "text/plain": [
       "  class_names    r    g    b\n",
       "0  background    0    0    0\n",
       "1       polyp  255  255  255"
      ]
     },
     "execution_count": 4,
     "metadata": {},
     "output_type": "execute_result"
    }
   ],
   "source": [
    "class_data = pd.read_csv(os.path.join(data_dr,'class_dict.csv'))\n",
    "class_data"
   ]
  },
  {
   "cell_type": "code",
   "execution_count": 5,
   "metadata": {
    "colab": {
     "base_uri": "https://localhost:8080/",
     "height": 419
    },
    "id": "hUEhR8LSnmFU",
    "outputId": "1db50185-11e5-40a5-aa3f-2cdd0cfcf09d"
   },
   "outputs": [
    {
     "data": {
      "text/html": [
       "<div>\n",
       "<style scoped>\n",
       "    .dataframe tbody tr th:only-of-type {\n",
       "        vertical-align: middle;\n",
       "    }\n",
       "\n",
       "    .dataframe tbody tr th {\n",
       "        vertical-align: top;\n",
       "    }\n",
       "\n",
       "    .dataframe thead th {\n",
       "        text-align: right;\n",
       "    }\n",
       "</style>\n",
       "<table border=\"1\" class=\"dataframe\">\n",
       "  <thead>\n",
       "    <tr style=\"text-align: right;\">\n",
       "      <th></th>\n",
       "      <th>frame_id</th>\n",
       "      <th>png_image_path</th>\n",
       "      <th>png_mask_path</th>\n",
       "    </tr>\n",
       "  </thead>\n",
       "  <tbody>\n",
       "    <tr>\n",
       "      <th>0</th>\n",
       "      <td>24</td>\n",
       "      <td>Polyp_dataset/PNG/Original/24.png</td>\n",
       "      <td>Polyp_dataset/PNG/Ground Truth/24.png</td>\n",
       "    </tr>\n",
       "    <tr>\n",
       "      <th>1</th>\n",
       "      <td>382</td>\n",
       "      <td>Polyp_dataset/PNG/Original/382.png</td>\n",
       "      <td>Polyp_dataset/PNG/Ground Truth/382.png</td>\n",
       "    </tr>\n",
       "    <tr>\n",
       "      <th>2</th>\n",
       "      <td>290</td>\n",
       "      <td>Polyp_dataset/PNG/Original/290.png</td>\n",
       "      <td>Polyp_dataset/PNG/Ground Truth/290.png</td>\n",
       "    </tr>\n",
       "    <tr>\n",
       "      <th>3</th>\n",
       "      <td>213</td>\n",
       "      <td>Polyp_dataset/PNG/Original/213.png</td>\n",
       "      <td>Polyp_dataset/PNG/Ground Truth/213.png</td>\n",
       "    </tr>\n",
       "    <tr>\n",
       "      <th>4</th>\n",
       "      <td>308</td>\n",
       "      <td>Polyp_dataset/PNG/Original/308.png</td>\n",
       "      <td>Polyp_dataset/PNG/Ground Truth/308.png</td>\n",
       "    </tr>\n",
       "    <tr>\n",
       "      <th>...</th>\n",
       "      <td>...</td>\n",
       "      <td>...</td>\n",
       "      <td>...</td>\n",
       "    </tr>\n",
       "    <tr>\n",
       "      <th>607</th>\n",
       "      <td>298</td>\n",
       "      <td>Polyp_dataset/PNG/Original/298.png</td>\n",
       "      <td>Polyp_dataset/PNG/Ground Truth/298.png</td>\n",
       "    </tr>\n",
       "    <tr>\n",
       "      <th>608</th>\n",
       "      <td>215</td>\n",
       "      <td>Polyp_dataset/PNG/Original/215.png</td>\n",
       "      <td>Polyp_dataset/PNG/Ground Truth/215.png</td>\n",
       "    </tr>\n",
       "    <tr>\n",
       "      <th>609</th>\n",
       "      <td>429</td>\n",
       "      <td>Polyp_dataset/PNG/Original/429.png</td>\n",
       "      <td>Polyp_dataset/PNG/Ground Truth/429.png</td>\n",
       "    </tr>\n",
       "    <tr>\n",
       "      <th>610</th>\n",
       "      <td>241</td>\n",
       "      <td>Polyp_dataset/PNG/Original/241.png</td>\n",
       "      <td>Polyp_dataset/PNG/Ground Truth/241.png</td>\n",
       "    </tr>\n",
       "    <tr>\n",
       "      <th>611</th>\n",
       "      <td>13</td>\n",
       "      <td>Polyp_dataset/PNG/Original/13.png</td>\n",
       "      <td>Polyp_dataset/PNG/Ground Truth/13.png</td>\n",
       "    </tr>\n",
       "  </tbody>\n",
       "</table>\n",
       "<p>612 rows × 3 columns</p>\n",
       "</div>"
      ],
      "text/plain": [
       "     frame_id                      png_image_path  \\\n",
       "0          24   Polyp_dataset/PNG/Original/24.png   \n",
       "1         382  Polyp_dataset/PNG/Original/382.png   \n",
       "2         290  Polyp_dataset/PNG/Original/290.png   \n",
       "3         213  Polyp_dataset/PNG/Original/213.png   \n",
       "4         308  Polyp_dataset/PNG/Original/308.png   \n",
       "..        ...                                 ...   \n",
       "607       298  Polyp_dataset/PNG/Original/298.png   \n",
       "608       215  Polyp_dataset/PNG/Original/215.png   \n",
       "609       429  Polyp_dataset/PNG/Original/429.png   \n",
       "610       241  Polyp_dataset/PNG/Original/241.png   \n",
       "611        13   Polyp_dataset/PNG/Original/13.png   \n",
       "\n",
       "                              png_mask_path  \n",
       "0     Polyp_dataset/PNG/Ground Truth/24.png  \n",
       "1    Polyp_dataset/PNG/Ground Truth/382.png  \n",
       "2    Polyp_dataset/PNG/Ground Truth/290.png  \n",
       "3    Polyp_dataset/PNG/Ground Truth/213.png  \n",
       "4    Polyp_dataset/PNG/Ground Truth/308.png  \n",
       "..                                      ...  \n",
       "607  Polyp_dataset/PNG/Ground Truth/298.png  \n",
       "608  Polyp_dataset/PNG/Ground Truth/215.png  \n",
       "609  Polyp_dataset/PNG/Ground Truth/429.png  \n",
       "610  Polyp_dataset/PNG/Ground Truth/241.png  \n",
       "611   Polyp_dataset/PNG/Ground Truth/13.png  \n",
       "\n",
       "[612 rows x 3 columns]"
      ]
     },
     "execution_count": 5,
     "metadata": {},
     "output_type": "execute_result"
    }
   ],
   "source": [
    "metadata_df = meta_data[['frame_id','png_image_path','png_mask_path']]\n",
    "metadata_df['png_image_path'] = metadata_df['png_image_path'].apply(lambda img_path: os.path.join(data_dr, img_path))\n",
    "metadata_df['png_mask_path'] = metadata_df['png_mask_path'].apply(lambda img_path: os.path.join(data_dr, img_path))\n",
    "metadata_df = metadata_df.sample(frac = 1).reset_index(drop = True)\n",
    "metadata_df"
   ]
  },
  {
   "cell_type": "code",
   "execution_count": 6,
   "metadata": {
    "id": "65zuohton1dS"
   },
   "outputs": [],
   "source": [
    "img_paths = metadata_df['png_image_path'].tolist()\n",
    "mask_paths = metadata_df['png_mask_path'].tolist()\n"
   ]
  },
  {
   "cell_type": "code",
   "execution_count": 7,
   "metadata": {
    "colab": {
     "base_uri": "https://localhost:8080/"
    },
    "id": "ypo4sU6nrZcd",
    "outputId": "a9e5981c-b9f2-4208-a81c-3fb08d56f003"
   },
   "outputs": [
    {
     "name": "stdout",
     "output_type": "stream",
     "text": [
      "Shape of the images array: (612, 256, 256, 3)\n",
      "Shape of the images array: (612, 256, 256, 3)\n"
     ]
    }
   ],
   "source": [
    "# Define a function to load and preprocess an image\n",
    "def load_and_preprocess_image(image_path, target_size):\n",
    "    img = Image.open(image_path)\n",
    "    img = img.resize(target_size)  # Resize the image to the desired size\n",
    "    img_array = np.array(img) / 255.0  # Normalize pixel values to the range [0, 1]\n",
    "    return img_array\n",
    "\n",
    "# Specify the target size for resizing (optional)\n",
    "target_size = (256,256)\n",
    "\n",
    "# Load and preprocess each image and mask\n",
    "images = [load_and_preprocess_image(image_path, target_size=target_size) for image_path in img_paths]\n",
    "masks = [load_and_preprocess_image(image_path, target_size=target_size) for image_path in mask_paths]\n",
    "\n",
    "# Convert the list of images to a NumPy array\n",
    "images_array = np.array(images)\n",
    "mask_array = np.array(masks)\n",
    "\n",
    "print(\"Shape of the images array:\", images_array.shape)\n",
    "print(\"Shape of the images array:\", mask_array.shape)\n"
   ]
  },
  {
   "cell_type": "code",
   "execution_count": 8,
   "metadata": {
    "colab": {
     "base_uri": "https://localhost:8080/"
    },
    "id": "yJ7q10HDRTp-",
    "outputId": "8ec57db6-ab96-4401-8c8f-8f6e4521034d"
   },
   "outputs": [
    {
     "name": "stdout",
     "output_type": "stream",
     "text": [
      "Training set size: 467\n",
      "Validation set size: 83\n",
      "Test set size: 62\n"
     ]
    }
   ],
   "source": [
    "x_train_temp, x_test, y_train_temp, y_test = train_test_split(images_array, mask_array, test_size=0.1, random_state=42)\n",
    "\n",
    "x_train, x_valid, y_train, y_valid = train_test_split(x_train_temp, y_train_temp, test_size=0.15, random_state=42)\n",
    "\n",
    "# Print the sizes of the sets to verify the split\n",
    "print(\"Training set size:\", len(x_train))\n",
    "print(\"Validation set size:\", len(x_valid))\n",
    "print(\"Test set size:\", len(x_test))\n"
   ]
  },
  {
   "cell_type": "code",
   "execution_count": 9,
   "metadata": {
    "id": "l_qMySbORwjN"
   },
   "outputs": [],
   "source": [
    "# Create TensorFlow datasets\n",
    "#train_dataset = tf.data.Dataset.from_tensor_slices((x_train, y_train))\n",
    "\n",
    "#test_dataset = tf.data.Dataset.from_tensor_slices((x_test, y_test))"
   ]
  },
  {
   "cell_type": "code",
   "execution_count": 10,
   "metadata": {
    "id": "t_yBGtwiTImN"
   },
   "outputs": [],
   "source": [
    "def visualize(images):\n",
    "\n",
    "    n_images = len(images)\n",
    "    plt.figure(figsize=(20,8))\n",
    "    for idx, (name, image) in enumerate(images.items()):\n",
    "        plt.subplot(1, n_images, idx + 1)\n",
    "        plt.xticks([]);\n",
    "        plt.yticks([])\n",
    "        # get title from the parameter names\n",
    "        plt.title(name.replace('_',' ').title(), fontsize=20)\n",
    "        plt.imshow(image)\n",
    "    plt.show()"
   ]
  },
  {
   "cell_type": "code",
   "execution_count": 11,
   "metadata": {
    "colab": {
     "base_uri": "https://localhost:8080/"
    },
    "id": "Fxw8nuyLTRIT",
    "outputId": "57044b26-f724-47f8-80b2-ac4ab3ddf5d7"
   },
   "outputs": [
    {
     "name": "stderr",
     "output_type": "stream",
     "text": [
      "2024-02-28 15:15:07.502047: I metal_plugin/src/device/metal_device.cc:1154] Metal device set to: Apple M2\n",
      "2024-02-28 15:15:07.502093: I metal_plugin/src/device/metal_device.cc:296] systemMemory: 8.00 GB\n",
      "2024-02-28 15:15:07.503722: I metal_plugin/src/device/metal_device.cc:313] maxCacheSize: 2.67 GB\n",
      "2024-02-28 15:15:07.504209: I tensorflow/core/common_runtime/pluggable_device/pluggable_device_factory.cc:306] Could not identify NUMA node of platform GPU ID 0, defaulting to 0. Your kernel may not have been built with NUMA support.\n",
      "2024-02-28 15:15:07.505063: I tensorflow/core/common_runtime/pluggable_device/pluggable_device_factory.cc:272] Created TensorFlow device (/job:localhost/replica:0/task:0/device:GPU:0 with 0 MB memory) -> physical PluggableDevice (device: 0, name: METAL, pci bus id: <undefined>)\n"
     ]
    },
    {
     "name": "stdout",
     "output_type": "stream",
     "text": [
      "Model: \"model\"\n",
      "__________________________________________________________________________________________________\n",
      " Layer (type)                Output Shape                 Param #   Connected to                  \n",
      "==================================================================================================\n",
      " input_1 (InputLayer)        [(None, 256, 256, 3)]        0         []                            \n",
      "                                                                                                  \n",
      " conv2d (Conv2D)             (None, 256, 256, 64)         1792      ['input_1[0][0]']             \n",
      "                                                                                                  \n",
      " max_pooling2d (MaxPooling2  (None, 128, 128, 64)         0         ['conv2d[0][0]']              \n",
      " D)                                                                                               \n",
      "                                                                                                  \n",
      " conv2d_1 (Conv2D)           (None, 128, 128, 256)        147712    ['max_pooling2d[0][0]']       \n",
      "                                                                                                  \n",
      " conv2d_2 (Conv2D)           (None, 128, 128, 256)        590080    ['conv2d_1[0][0]']            \n",
      "                                                                                                  \n",
      " up_sampling2d (UpSampling2  (None, 256, 256, 256)        0         ['conv2d_2[0][0]']            \n",
      " D)                                                                                               \n",
      "                                                                                                  \n",
      " concatenate (Concatenate)   (None, 256, 256, 320)        0         ['conv2d[0][0]',              \n",
      "                                                                     'up_sampling2d[0][0]']       \n",
      "                                                                                                  \n",
      " conv2d_3 (Conv2D)           (None, 256, 256, 64)         184384    ['concatenate[0][0]']         \n",
      "                                                                                                  \n",
      " conv2d_4 (Conv2D)           (None, 256, 256, 64)         36928     ['conv2d_3[0][0]']            \n",
      "                                                                                                  \n",
      " conv2d_5 (Conv2D)           (None, 256, 256, 64)         36928     ['conv2d_4[0][0]']            \n",
      "                                                                                                  \n",
      " max_pooling2d_1 (MaxPoolin  (None, 128, 128, 64)         0         ['conv2d_5[0][0]']            \n",
      " g2D)                                                                                             \n",
      "                                                                                                  \n",
      " conv2d_6 (Conv2D)           (None, 128, 128, 128)        73856     ['max_pooling2d_1[0][0]']     \n",
      "                                                                                                  \n",
      " conv2d_7 (Conv2D)           (None, 128, 128, 128)        147584    ['conv2d_6[0][0]']            \n",
      "                                                                                                  \n",
      " max_pooling2d_2 (MaxPoolin  (None, 64, 64, 128)          0         ['conv2d_7[0][0]']            \n",
      " g2D)                                                                                             \n",
      "                                                                                                  \n",
      " conv2d_8 (Conv2D)           (None, 64, 64, 256)          295168    ['max_pooling2d_2[0][0]']     \n",
      "                                                                                                  \n",
      " conv2d_9 (Conv2D)           (None, 64, 64, 256)          590080    ['conv2d_8[0][0]']            \n",
      "                                                                                                  \n",
      " max_pooling2d_3 (MaxPoolin  (None, 32, 32, 256)          0         ['conv2d_9[0][0]']            \n",
      " g2D)                                                                                             \n",
      "                                                                                                  \n",
      " conv2d_10 (Conv2D)          (None, 32, 32, 512)          1180160   ['max_pooling2d_3[0][0]']     \n",
      "                                                                                                  \n",
      " conv2d_11 (Conv2D)          (None, 32, 32, 512)          2359808   ['conv2d_10[0][0]']           \n",
      "                                                                                                  \n",
      " up_sampling2d_1 (UpSamplin  (None, 64, 64, 512)          0         ['conv2d_11[0][0]']           \n",
      " g2D)                                                                                             \n",
      "                                                                                                  \n",
      " concatenate_1 (Concatenate  (None, 64, 64, 768)          0         ['conv2d_9[0][0]',            \n",
      " )                                                                   'up_sampling2d_1[0][0]']     \n",
      "                                                                                                  \n",
      " conv2d_12 (Conv2D)          (None, 64, 64, 256)          1769728   ['concatenate_1[0][0]']       \n",
      "                                                                                                  \n",
      " conv2d_13 (Conv2D)          (None, 64, 64, 256)          590080    ['conv2d_12[0][0]']           \n",
      "                                                                                                  \n",
      " up_sampling2d_2 (UpSamplin  (None, 128, 128, 256)        0         ['conv2d_13[0][0]']           \n",
      " g2D)                                                                                             \n",
      "                                                                                                  \n",
      " concatenate_2 (Concatenate  (None, 128, 128, 384)        0         ['conv2d_7[0][0]',            \n",
      " )                                                                   'up_sampling2d_2[0][0]']     \n",
      "                                                                                                  \n",
      " conv2d_14 (Conv2D)          (None, 128, 128, 128)        442496    ['concatenate_2[0][0]']       \n",
      "                                                                                                  \n",
      " conv2d_15 (Conv2D)          (None, 128, 128, 128)        147584    ['conv2d_14[0][0]']           \n",
      "                                                                                                  \n",
      " up_sampling2d_3 (UpSamplin  (None, 256, 256, 128)        0         ['conv2d_15[0][0]']           \n",
      " g2D)                                                                                             \n",
      "                                                                                                  \n",
      " concatenate_3 (Concatenate  (None, 256, 256, 192)        0         ['conv2d_5[0][0]',            \n",
      " )                                                                   'up_sampling2d_3[0][0]']     \n",
      "                                                                                                  \n",
      " conv2d_16 (Conv2D)          (None, 256, 256, 64)         110656    ['concatenate_3[0][0]']       \n",
      "                                                                                                  \n",
      " conv2d_17 (Conv2D)          (None, 256, 256, 64)         36928     ['conv2d_16[0][0]']           \n",
      "                                                                                                  \n",
      " conv2d_18 (Conv2D)          (None, 256, 256, 64)         36928     ['conv2d_17[0][0]']           \n",
      "                                                                                                  \n",
      " max_pooling2d_4 (MaxPoolin  (None, 128, 128, 64)         0         ['conv2d_18[0][0]']           \n",
      " g2D)                                                                                             \n",
      "                                                                                                  \n",
      " conv2d_19 (Conv2D)          (None, 128, 128, 256)        147712    ['max_pooling2d_4[0][0]']     \n",
      "                                                                                                  \n",
      " conv2d_20 (Conv2D)          (None, 128, 128, 256)        590080    ['conv2d_19[0][0]']           \n",
      "                                                                                                  \n",
      " up_sampling2d_4 (UpSamplin  (None, 256, 256, 256)        0         ['conv2d_20[0][0]']           \n",
      " g2D)                                                                                             \n",
      "                                                                                                  \n",
      " concatenate_4 (Concatenate  (None, 256, 256, 320)        0         ['conv2d_18[0][0]',           \n",
      " )                                                                   'up_sampling2d_4[0][0]']     \n",
      "                                                                                                  \n",
      " conv2d_21 (Conv2D)          (None, 256, 256, 64)         184384    ['concatenate_4[0][0]']       \n",
      "                                                                                                  \n",
      " conv2d_22 (Conv2D)          (None, 256, 256, 3)          195       ['conv2d_21[0][0]']           \n",
      "                                                                                                  \n",
      "==================================================================================================\n",
      "Total params: 9701251 (37.01 MB)\n",
      "Trainable params: 9701251 (37.01 MB)\n",
      "Non-trainable params: 0 (0.00 Byte)\n",
      "__________________________________________________________________________________________________\n"
     ]
    }
   ],
   "source": [
    "def munet_model(input_shape):\n",
    "    inputs = layers.Input(input_shape)\n",
    "\n",
    "    mconv1 = layers.Conv2D(64, (3, 3), activation='relu', padding='same')(inputs)\n",
    "    pool1 = layers.MaxPooling2D(pool_size=(2, 2))(mconv1)\n",
    "\n",
    "    mconv2 = layers.Conv2D(256, (3, 3), activation='relu', padding='same')(pool1)\n",
    "    mconv2 = layers.Conv2D(256, (3, 3), activation='relu', padding='same')(mconv2)\n",
    "\n",
    "    up1 = layers.UpSampling2D(size=(2, 2))(mconv2)\n",
    "    up1 = layers.concatenate([mconv1, up1], axis=-1)\n",
    "    mconv3 = layers.Conv2D(64, (3, 3), activation='relu', padding='same')(up1)\n",
    "\n",
    "\n",
    "    # Encoder\n",
    "    conv1 = layers.Conv2D(64, (3, 3), activation='relu', padding='same')(mconv3)\n",
    "    conv1 = layers.Conv2D(64, (3, 3), activation='relu', padding='same')(conv1)\n",
    "    pool2 = layers.MaxPooling2D(pool_size=(2, 2))(conv1)\n",
    "\n",
    "    conv2 = layers.Conv2D(128, (3, 3), activation='relu', padding='same')(pool2)\n",
    "    conv2 = layers.Conv2D(128, (3, 3), activation='relu', padding='same')(conv2)\n",
    "    pool3 = layers.MaxPooling2D(pool_size=(2, 2))(conv2)\n",
    "\n",
    "    conv3 = layers.Conv2D(256, (3, 3), activation='relu', padding='same')(pool3)\n",
    "    conv3 = layers.Conv2D(256, (3, 3), activation='relu', padding='same')(conv3)\n",
    "    pool4 = layers.MaxPooling2D(pool_size=(2, 2))(conv3)\n",
    "\n",
    "    # Bottleneck\n",
    "    conv4 = layers.Conv2D(512, (3, 3), activation='relu', padding='same')(pool4)\n",
    "    conv4 = layers.Conv2D(512, (3, 3), activation='relu', padding='same')(conv4)\n",
    "\n",
    "    # Decoder\n",
    "    up5 = layers.UpSampling2D(size=(2, 2))(conv4)\n",
    "    up5 = layers.concatenate([conv3, up5], axis=-1)\n",
    "    conv5 = layers.Conv2D(256, (3, 3), activation='relu', padding='same')(up5)\n",
    "    conv5 = layers.Conv2D(256, (3, 3), activation='relu', padding='same')(conv5)\n",
    "\n",
    "    up6 = layers.UpSampling2D(size=(2, 2))(conv5)\n",
    "    up6 = layers.concatenate([conv2, up6], axis=-1)\n",
    "    conv6 = layers.Conv2D(128, (3, 3), activation='relu', padding='same')(up6)\n",
    "    conv6 = layers.Conv2D(128, (3, 3), activation='relu', padding='same')(conv6)\n",
    "\n",
    "    up7 = layers.UpSampling2D(size=(2, 2))(conv6)\n",
    "    up7 = layers.concatenate([conv1, up7], axis=-1)\n",
    "    conv7 = layers.Conv2D(64, (3, 3), activation='relu', padding='same')(up7)\n",
    "    conv7 = layers.Conv2D(64, (3, 3), activation='relu', padding='same')(conv7)\n",
    "\n",
    "    nconv1 = layers.Conv2D(64, (3, 3), activation='relu', padding='same')(conv7)\n",
    "    pool5 = layers.MaxPooling2D(pool_size=(2, 2))(nconv1)\n",
    "\n",
    "    nconv2 = layers.Conv2D(256, (3, 3), activation='relu', padding='same')(pool5)\n",
    "    nconv2 = layers.Conv2D(256, (3, 3), activation='relu', padding='same')(nconv2)\n",
    "\n",
    "    up2 = layers.UpSampling2D(size=(2, 2))(nconv2)\n",
    "    up2 = layers.concatenate([nconv1, up2], axis=-1)\n",
    "    nconv3 = layers.Conv2D(64, (3, 3), activation='relu', padding='same')(up2)\n",
    "\n",
    "    output = layers.Conv2D(3, (1, 1), activation='sigmoid')(nconv3)\n",
    "\n",
    "    model = models.Model(inputs=inputs, outputs=output)\n",
    "\n",
    "    return model\n",
    "\n",
    "# Create an instance of the U-Net model\n",
    "model = munet_model(input_shape=(256, 256, 3))\n",
    "\n",
    "# Display the model summary\n",
    "model.summary()"
   ]
  },
  {
   "cell_type": "code",
   "execution_count": null,
   "metadata": {
    "colab": {
     "base_uri": "https://localhost:8080/",
     "height": 1000
    },
    "id": "o_GW2ShzUMPO",
    "outputId": "3b94d09e-7f47-4556-83ca-02a09302fece"
   },
   "outputs": [
    {
     "name": "stdout",
     "output_type": "stream",
     "text": [
      "Epoch 1/150\n"
     ]
    },
    {
     "name": "stderr",
     "output_type": "stream",
     "text": [
      "2024-02-28 15:15:11.145993: I tensorflow/core/grappler/optimizers/custom_graph_optimizer_registry.cc:117] Plugin optimizer for device_type GPU is enabled.\n"
     ]
    },
    {
     "name": "stdout",
     "output_type": "stream",
     "text": [
      "30/47 [==================>...........] - ETA: 1:11 - loss: 1.1813 - accuracy: 0.4516"
     ]
    }
   ],
   "source": [
    "# Compile the model\n",
    "model.compile(optimizer='adam', loss='binary_crossentropy', metrics=['accuracy'])\n",
    "\n",
    "# Train the model\n",
    "history = model.fit(x_train, y_train,batch_size = 10, epochs= 150 ,shuffle = True, validation_data=(x_valid,y_valid))"
   ]
  },
  {
   "cell_type": "code",
   "execution_count": null,
   "metadata": {
    "id": "0HItGZB2AbTj"
   },
   "outputs": [],
   "source": [
    "loss, accuracy =model.evaluate(x_test,y_test)"
   ]
  },
  {
   "cell_type": "code",
   "execution_count": null,
   "metadata": {
    "id": "qzcHsicuAdL1"
   },
   "outputs": [],
   "source": [
    "\n",
    "y_pred =model.evaluate(x_test)\n",
    "y_pred"
   ]
  },
  {
   "cell_type": "code",
   "execution_count": null,
   "metadata": {
    "id": "XkYFJP34BJdX"
   },
   "outputs": [],
   "source": [
    "\n",
    "import matplotlib.pyplot as plot\n",
    "plot.subplot(2,1,2)\n",
    "plot.plot(history.history['loss'])\n",
    "plot.plot(history.history['val_loss'])\n",
    "plot.title('model loss')\n",
    "plot.ylabel('loss')\n",
    "plot.xlabel('epoch')\n",
    "plot.legend(['train', 'val'], loc='upper right')"
   ]
  },
  {
   "cell_type": "code",
   "execution_count": null,
   "metadata": {
    "id": "vWEW51gyBbNQ"
   },
   "outputs": [],
   "source": [
    "import matplotlib.pyplot as plot\n",
    "plot.subplot(2,1,1)\n",
    "plot.plot(history.history['accuracy'])\n",
    "plot.plot(history.history['val_accuracy'])\n",
    "plot.title('model accuracy')\n",
    "plot.ylabel('accuracy')\n",
    "plot.xlabel('epoch')\n",
    "plot.legend(['train', 'val'], loc='lower right')"
   ]
  },
  {
   "cell_type": "code",
   "execution_count": null,
   "metadata": {
    "id": "SDPQV3bvEp2z"
   },
   "outputs": [],
   "source": [
    "# Predict the mask using the trained model\n",
    "y_pred = model.predict(x_test)\n",
    "\n",
    "# Load the original mask\n",
    "original_mask = y_test\n",
    "original_mask = np.expand_dims(original_mask, axis=0) / 255.0  # Normalize the mask\n",
    "\n",
    "# Plot the original and predicted masks side by side\n",
    "plt.figure(figsize=(12, 6))\n",
    "\n",
    "# Original Mask\n",
    "plt.subplot(1, 2, 1)\n",
    "plt.imshow(original_mask[0, :, :, 0], cmap='gray')\n",
    "plt.title('Original Mask')\n",
    "\n",
    "# Predicted Mask\n",
    "plt.subplot(1, 2, 2)\n",
    "plt.imshow(y_pred[0, :, :, 0], cmap='gray')\n",
    "plt.title('Predicted Mask')\n",
    "\n",
    "plt.show()"
   ]
  },
  {
   "cell_type": "code",
   "execution_count": null,
   "metadata": {
    "id": "9JwuxFyO_0R3"
   },
   "outputs": [],
   "source": [
    "import numpy as np\n",
    "import matplotlib.pyplot as plt\n",
    "from sklearn.metrics import accuracy_score, precision_score, recall_score, confusion_matrix\n",
    "from tensorflow.keras.preprocessing import image\n",
    "\n",
    "\n",
    "\n",
    "# Threshold predicted masks (assuming binary segmentation)\n",
    "y_pred_binary = (y_pred > 0.2)\n",
    "\n",
    "y_test_flat = y_test.flatten().astype(np.uint8)\n",
    "y_pred_flat = y_pred_binary.flatten().astype(np.uint8)\n",
    "\n",
    "# Calculate metrics\n",
    "accuracy = accuracy_score(y_test_flat, y_pred_flat)\n",
    "precision = precision_score(y_test_flat, y_pred_flat)\n",
    "recall = recall_score(y_test_flat, y_pred_flat)\n",
    "\n",
    "# Intersection over Union (IoU) or Jaccard Index\n",
    "intersection = np.sum(y_test_flat * y_pred_flat)\n",
    "union = np.sum((y_test_flat + y_pred_flat) > 0)\n",
    "iou = intersection / union\n",
    "\n",
    "# Confusion matrix\n",
    "conf_mat = confusion_matrix(y_test_flat, y_pred_flat)\n",
    "\n",
    "print(f'Accuracy: {accuracy:.4f}')\n",
    "print(f'Precision: {precision:.4f}')\n",
    "print(f'Recall: {recall:.4f}')\n",
    "print(f'IoU: {iou:.4f}')\n",
    "print(f'Confusion Matrix:\\n{conf_mat}')\n",
    "\n",
    "# Visualize model predictions on test images\n",
    "num_samples = min(x_test.shape[0], 5)  # Visualize predictions for a few samples\n",
    "\n",
    "for i in range(num_samples):\n",
    "    plt.figure(figsize=(12, 4))\n",
    "\n",
    "    # Original Image\n",
    "    plt.subplot(1, 3, 1)\n",
    "    plt.imshow(x_test[i])\n",
    "    plt.title('Original Image')\n",
    "\n",
    "    # Ground Truth Mask\n",
    "    plt.subplot(1, 3, 2)\n",
    "    plt.imshow(y_test[i, :, :, 0], cmap='gray')\n",
    "    plt.title('Ground Truth Mask')\n",
    "\n",
    "    # Predicted Mask\n",
    "    plt.subplot(1, 3, 3)\n",
    "    plt.imshow(y_pred_binary[i, :, :, 0])\n",
    "    plt.title('Predicted Mask')\n",
    "\n",
    "    plt.show()"
   ]
  },
  {
   "cell_type": "code",
   "execution_count": null,
   "metadata": {
    "id": "r8LyNJ0tAXIS"
   },
   "outputs": [],
   "source": []
  },
  {
   "cell_type": "code",
   "execution_count": null,
   "metadata": {},
   "outputs": [],
   "source": []
  },
  {
   "cell_type": "code",
   "execution_count": null,
   "metadata": {},
   "outputs": [],
   "source": []
  },
  {
   "cell_type": "code",
   "execution_count": null,
   "metadata": {},
   "outputs": [],
   "source": []
  }
 ],
 "metadata": {
  "accelerator": "GPU",
  "colab": {
   "gpuType": "T4",
   "provenance": []
  },
  "kernelspec": {
   "display_name": "Python 3 (ipykernel)",
   "language": "python",
   "name": "python3"
  },
  "language_info": {
   "codemirror_mode": {
    "name": "ipython",
    "version": 3
   },
   "file_extension": ".py",
   "mimetype": "text/x-python",
   "name": "python",
   "nbconvert_exporter": "python",
   "pygments_lexer": "ipython3",
   "version": "3.11.5"
  }
 },
 "nbformat": 4,
 "nbformat_minor": 4
}
